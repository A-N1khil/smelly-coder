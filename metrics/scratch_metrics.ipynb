{
 "cells": [
  {
   "cell_type": "code",
   "id": "initial_id",
   "metadata": {
    "collapsed": true,
    "ExecuteTime": {
     "end_time": "2024-10-31T00:16:19.751005Z",
     "start_time": "2024-10-31T00:16:19.738565Z"
    }
   },
   "source": [
    "import os\n",
    "import subprocess\n",
    "import pandas as pd\n",
    "\n",
    "base_dir = \"/Users/nikanand/developer/repos/smelly-coder\""
   ],
   "outputs": [],
   "execution_count": 29
  },
  {
   "metadata": {
    "ExecuteTime": {
     "end_time": "2024-10-31T00:16:42.777900Z",
     "start_time": "2024-10-31T00:16:42.768996Z"
    }
   },
   "cell_type": "code",
   "source": [
    "def run_ck(java_project_path, ck_jar_path, output_dir):\n",
    "    # Create the ck_output directory if it doesn't exist\n",
    "    os.makedirs(output_dir, exist_ok=True)\n",
    "\n",
    "    # Run CK tool via command line using subprocess\n",
    "    command = [\n",
    "        \"java\", \"-jar\", ck_jar_path,\n",
    "        java_project_path, \"false\", \"0\", output_dir\n",
    "    ]\n",
    "    print(\" \".join(command))\n",
    "    subprocess.run(command, check=True)"
   ],
   "id": "562166e6b4666b92",
   "outputs": [],
   "execution_count": 33
  },
  {
   "metadata": {
    "ExecuteTime": {
     "end_time": "2024-10-31T00:21:01.575479Z",
     "start_time": "2024-10-31T00:21:01.563823Z"
    }
   },
   "cell_type": "code",
   "source": "java_project_path = \"/Users/nikanand/developer/repos/scrumsphere-server\"  # Path to the Java file or directory",
   "id": "232f9a8461b8224c",
   "outputs": [],
   "execution_count": 41
  },
  {
   "metadata": {
    "ExecuteTime": {
     "end_time": "2024-10-31T00:21:42.691501Z",
     "start_time": "2024-10-31T00:21:41.988798Z"
    }
   },
   "cell_type": "code",
   "source": [
    "ck_jar_path = os.path.join(base_dir, \"ck-jar/ck-0.7.1-SNAPSHOT-jar-with-dependencies.jar\")  # Path to the CK JAR file\n",
    "output_dir = os.path.join(base_dir, \"ck_output/\")\n",
    "# Directory to store CK's ck_output CSV files\n",
    "print(ck_jar_path)\n",
    "print(output_dir)\n",
    "\n",
    "# Run CK and load metrics\n",
    "try:\n",
    "    run_ck(java_project_path, ck_jar_path, output_dir)\n",
    "except subprocess.CalledProcessError as e:\n",
    "    print(\"Error running CK:\", e)\n",
    "except FileNotFoundError as e:\n",
    "    print(\"CSV file not found:\", e)"
   ],
   "id": "5f5644c03504ce41",
   "outputs": [
    {
     "name": "stdout",
     "output_type": "stream",
     "text": [
      "/Users/nikanand/developer/repos/smelly-coder/ck-jar/ck-0.7.1-SNAPSHOT-jar-with-dependencies.jar\n",
      "/Users/nikanand/developer/repos/smelly-coder/ck_output/\n",
      "java -jar /Users/nikanand/developer/repos/smelly-coder/ck-jar/ck-0.7.1-SNAPSHOT-jar-with-dependencies.jar /Users/nikanand/developer/repos/scrumsphere-server false 0 /Users/nikanand/developer/repos/smelly-coder/ck_output/\n"
     ]
    },
    {
     "name": "stderr",
     "output_type": "stream",
     "text": [
      "log4j:WARN No appenders could be found for logger (com.github.mauricioaniche.ck.CK).\n",
      "log4j:WARN Please initialize the log4j system properly.\n",
      "log4j:WARN See http://logging.apache.org/log4j/1.2/faq.html#noconfig for more info.\n"
     ]
    },
    {
     "name": "stdout",
     "output_type": "stream",
     "text": [
      "Metrics extracted!!!\n"
     ]
    }
   ],
   "execution_count": 43
  },
  {
   "metadata": {
    "ExecuteTime": {
     "end_time": "2024-10-31T00:34:05.208610Z",
     "start_time": "2024-10-31T00:34:05.131590Z"
    }
   },
   "cell_type": "code",
   "source": [
    "# Load the generated CSV files into pandas DataFrames\n",
    "direc = \"/Users/nikanand/developer/repos/smelly-coder/ck_output\"\n",
    "class_metrics = pd.read_csv(os.path.join(direc, \"class.csv\"))\n",
    "method_metrics = pd.read_csv(os.path.join(direc, \"method.csv\"))\n",
    "# field_metrics = pd.read_csv(os.path.join(direc, \"field.csv\"))\n",
    "# variable_metrics = pd.read_csv(os.path.join(direc, \"variable.csv\"))\n",
    "\n",
    "# Display the loaded metrics\n",
    "print(\"Class Metrics:\\n\", class_metrics.head())\n",
    "print(\"\\nMethod Metrics:\\n\", method_metrics.head())\n",
    "# print(\"\\nField Metrics:\\n\", field_metrics.head())\n",
    "# print(\"\\nVariable Metrics:\\n\", variable_metrics.head())"
   ],
   "id": "53ec3c84c6eb134c",
   "outputs": [
    {
     "name": "stdout",
     "output_type": "stream",
     "text": [
      "Class Metrics:\n",
      "                                                 file  \\\n",
      "0  /Users/nikanand/developer/repos/scrumsphere-se...   \n",
      "1  /Users/nikanand/developer/repos/scrumsphere-se...   \n",
      "2  /Users/nikanand/developer/repos/scrumsphere-se...   \n",
      "3  /Users/nikanand/developer/repos/scrumsphere-se...   \n",
      "4  /Users/nikanand/developer/repos/scrumsphere-se...   \n",
      "\n",
      "                                               class   type  cbo  cboModified  \\\n",
      "0                 com.anikhil.scrumsphere.Playground  class    1            1   \n",
      "1  com.anikhil.scrumsphere.configuration.RequestI...  class    5            6   \n",
      "2  com.anikhil.scrumsphere.http.BaseController$St...   enum    0            0   \n",
      "3            com.anikhil.scrumsphere.utils.JsonUtils  class    5            7   \n",
      "4          com.anikhil.scrumsphere.users.dao.UserDao  class    5            6   \n",
      "\n",
      "   fanin  fanout  wmc  dit  noc  ...  assignmentsQty  mathOperationsQty  \\\n",
      "0      0       1    1    1    0  ...               0                  0   \n",
      "1      1       5    3    1    0  ...               4                  0   \n",
      "2      0       0    0    1    0  ...               0                  0   \n",
      "3      2       5    7    1    0  ...               1                  0   \n",
      "4      1       5    5    1    0  ...               1                  0   \n",
      "\n",
      "   variablesQty  maxNestedBlocksQty  anonymousClassesQty  innerClassesQty  \\\n",
      "0             0                   0                    0                0   \n",
      "1             3                   0                    0                0   \n",
      "2             0                   0                    0                0   \n",
      "3             1                   1                    0                0   \n",
      "4             1                   0                    0                0   \n",
      "\n",
      "   lambdasQty  uniqueWordsQty  modifiers  logStatementsQty  \n",
      "0           0               3          1                 0  \n",
      "1           0              29          1                 2  \n",
      "2           0               5          0                 0  \n",
      "3           0              22          1                 2  \n",
      "4           0              18          1                 0  \n",
      "\n",
      "[5 rows x 52 columns]\n",
      "\n",
      "Method Metrics:\n",
      "                                                 file  \\\n",
      "0  /Users/nikanand/developer/repos/scrumsphere-se...   \n",
      "1  /Users/nikanand/developer/repos/scrumsphere-se...   \n",
      "2  /Users/nikanand/developer/repos/scrumsphere-se...   \n",
      "3  /Users/nikanand/developer/repos/scrumsphere-se...   \n",
      "4  /Users/nikanand/developer/repos/scrumsphere-se...   \n",
      "\n",
      "                                               class  \\\n",
      "0                 com.anikhil.scrumsphere.Playground   \n",
      "1  com.anikhil.scrumsphere.configuration.RequestI...   \n",
      "2  com.anikhil.scrumsphere.configuration.RequestI...   \n",
      "3  com.anikhil.scrumsphere.configuration.RequestI...   \n",
      "4            com.anikhil.scrumsphere.utils.JsonUtils   \n",
      "\n",
      "                                              method  constructor  line  cbo  \\\n",
      "0                         main/1[java.lang.String[]]        False    11    1   \n",
      "1  preHandle/3[com.anikhil.scrumsphere.configurat...        False    26    2   \n",
      "2                               RequestInterceptor/0         True    20    0   \n",
      "3  afterCompletion/4[com.anikhil.scrumsphere.conf...        False    33    2   \n",
      "4                         toJson/1[java.lang.Object]        False    13    1   \n",
      "\n",
      "   cboModified  fanin  fanout  wmc  ...  assignmentsQty  mathOperationsQty  \\\n",
      "0            0      0       0    1  ...               0                  0   \n",
      "1            0      0       0    1  ...               1                  0   \n",
      "2            0      0       0    1  ...               2                  0   \n",
      "3            0      0       0    1  ...               1                  0   \n",
      "4            1      1       0    1  ...               0                  0   \n",
      "\n",
      "   maxNestedBlocksQty  anonymousClassesQty  innerClassesQty  lambdasQty  \\\n",
      "0                   0                    0                0           0   \n",
      "1                   0                    0                0           0   \n",
      "2                   0                    0                0           0   \n",
      "3                   0                    0                0           0   \n",
      "4                   0                    0                0           0   \n",
      "\n",
      "   uniqueWordsQty  modifiers  logStatementsQty  hasJavaDoc  \n",
      "0               2          9                 0       False  \n",
      "1              12          1                 1       False  \n",
      "2               7          2                 0       False  \n",
      "3              10          1                 1       False  \n",
      "4               5          9                 0       False  \n",
      "\n",
      "[5 rows x 34 columns]\n"
     ]
    }
   ],
   "execution_count": 44
  }
 ],
 "metadata": {
  "kernelspec": {
   "display_name": "Python 3",
   "language": "python",
   "name": "python3"
  },
  "language_info": {
   "codemirror_mode": {
    "name": "ipython",
    "version": 2
   },
   "file_extension": ".py",
   "mimetype": "text/x-python",
   "name": "python",
   "nbconvert_exporter": "python",
   "pygments_lexer": "ipython2",
   "version": "2.7.6"
  }
 },
 "nbformat": 4,
 "nbformat_minor": 5
}
